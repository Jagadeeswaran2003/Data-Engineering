{
 "cells": [
  {
   "cell_type": "code",
   "execution_count": 1,
   "metadata": {},
   "outputs": [],
   "source": [
    "import os\n",
    "import json\n",
    "import requests\n",
    "\n",
    "import pandas as pd\n",
    "\n",
    "from scrapy import Selector\n",
    "from tqdm.notebook import tqdm"
   ]
  },
  {
   "cell_type": "code",
   "execution_count": 2,
   "metadata": {},
   "outputs": [
    {
     "data": {
      "text/plain": [
       "200"
      ]
     },
     "execution_count": 2,
     "metadata": {},
     "output_type": "execute_result"
    }
   ],
   "source": [
    "url = \"https://plumgoodness.com/collections/skincare\"\n",
    "response =requests.get(url)\n",
    "response.status_code"
   ]
  },
  {
   "cell_type": "code",
   "execution_count": 3,
   "metadata": {},
   "outputs": [],
   "source": [
    "plum = Selector(text = response.text)"
   ]
  },
  {
   "cell_type": "code",
   "execution_count": 4,
   "metadata": {},
   "outputs": [],
   "source": [
    "Name = plum.css(\".card-link.text-current.js-prod-link::text\").getall()"
   ]
  },
  {
   "cell_type": "code",
   "execution_count": 5,
   "metadata": {},
   "outputs": [
    {
     "data": {
      "text/plain": [
       "['10% Niacinamide Serum for Face with Rice Water',\n",
       " '2% Niacinamide & Rice Water SPF 50 PA+++ Hybrid Sunscreen',\n",
       " '2% Niacinamide & Rice Water Gel Cream',\n",
       " 'Niacinamide Clear & Bright Skin Combo | With Niacinamide & Rice Water | Toner, Serum, Gel Moisturizer & SPF 50 PA+++ Sunscreen',\n",
       " '3% Niacinamide Face Toner with Rice Water',\n",
       " 'Cica & Hya-Betaine Vegan Mucin Face Essence With Azuki Bean Extracts & ATP',\n",
       " 'Plum Oat & Ceramide Complex 100% Mineral Sunscreen',\n",
       " '15% Vitamin C Serum for Face with Mandarin',\n",
       " 'Rice water & 3% Niacinamide sheer-tinted sunscreen',\n",
       " 'Bulgarian Rose and 1% Hyaluronic Acid Dew-it-light Gel Cream',\n",
       " '2% Niacinamide & Rice Water Simply Bright Face Wash',\n",
       " 'Green Tea & Zinc Super-Matte Sunscreen Gel | SPF 50 PA ++++| SPF for Oily Skin',\n",
       " 'Green Tea Pore Cleansing Face Wash',\n",
       " 'Oat & 1% Ceramide Barrier Love Face Cream',\n",
       " 'Niacinamide Bright & Clear Skin Combo',\n",
       " '2% Niacinamide & Rice Water SPF 50 PA+++ Hybrid Sunscreen - Pack of 2',\n",
       " 'Bright Years Age Specialist Full Set',\n",
       " 'Green Tea Renewed Clarity Night Gel',\n",
       " '1% Retinol Face Serum with Bakuchiol',\n",
       " 'Green Tea Oil-Free Moisturizer',\n",
       " 'Saffron & Kumkumadi Oil Glow Bright Moisturizer With SPF 35',\n",
       " 'Cica & Hyaluronic Acid SPF 50 PA+++ Sunscreen',\n",
       " '5% Niacinamide Face Serum With Rice Water']"
      ]
     },
     "execution_count": 5,
     "metadata": {},
     "output_type": "execute_result"
    }
   ],
   "source": [
    "Name"
   ]
  },
  {
   "cell_type": "code",
   "execution_count": 6,
   "metadata": {},
   "outputs": [],
   "source": [
    "Amount = plum.css(\"div.card__info-container.flex.flex-col.flex-auto.relative > div.card__info.w-full > div > div.flex.grow.items-end > div > div.price__default > s > span::text\").getall()"
   ]
  },
  {
   "cell_type": "code",
   "execution_count": 7,
   "metadata": {},
   "outputs": [
    {
     "data": {
      "text/plain": [
       "['₹849.00',\n",
       " '₹399.00',\n",
       " '₹525.00',\n",
       " '₹1,993.00',\n",
       " '₹420.00',\n",
       " '₹799.00',\n",
       " '₹699.00',\n",
       " '₹790.00',\n",
       " '₹499.00',\n",
       " '₹499.00',\n",
       " '₹299.00',\n",
       " '₹425.00',\n",
       " '₹350.00',\n",
       " '₹399.00',\n",
       " '₹2,492.00',\n",
       " '₹798.00',\n",
       " '₹4,500.00',\n",
       " '₹575.00',\n",
       " '₹790.00',\n",
       " '₹470.00',\n",
       " '₹399.00',\n",
       " '₹399.00',\n",
       " '₹599.00']"
      ]
     },
     "execution_count": 7,
     "metadata": {},
     "output_type": "execute_result"
    }
   ],
   "source": [
    "Amount"
   ]
  },
  {
   "cell_type": "code",
   "execution_count": 8,
   "metadata": {},
   "outputs": [],
   "source": [
    "Price = plum.css(\".money::text\").getall()"
   ]
  },
  {
   "cell_type": "code",
   "execution_count": 9,
   "metadata": {},
   "outputs": [
    {
     "data": {
      "text/plain": [
       "['₹738.00',\n",
       " '₹849.00',\n",
       " '₹347.00',\n",
       " '₹399.00',\n",
       " '₹456.00',\n",
       " '₹525.00',\n",
       " '₹1,494.00',\n",
       " '₹1,993.00',\n",
       " '₹390.00',\n",
       " '₹420.00',\n",
       " '₹695.00',\n",
       " '₹799.00',\n",
       " '₹608.00',\n",
       " '₹699.00',\n",
       " '₹687.00',\n",
       " '₹790.00',\n",
       " '₹434.00',\n",
       " '₹499.00',\n",
       " '₹434.00',\n",
       " '₹499.00',\n",
       " '₹260.00',\n",
       " '₹299.00',\n",
       " '₹369.00',\n",
       " '₹425.00',\n",
       " '₹304.00',\n",
       " '₹350.00',\n",
       " '₹347.00',\n",
       " '₹399.00',\n",
       " '₹1,869.00',\n",
       " '₹2,492.00',\n",
       " '₹678.00',\n",
       " '₹798.00',\n",
       " '₹3,375.00',\n",
       " '₹4,500.00',\n",
       " '₹488.00',\n",
       " '₹575.00',\n",
       " '₹687.00',\n",
       " '₹790.00',\n",
       " '₹408.00',\n",
       " '₹470.00',\n",
       " '₹347.00',\n",
       " '₹399.00',\n",
       " '₹347.00',\n",
       " '₹399.00',\n",
       " '₹521.00',\n",
       " '₹599.00',\n",
       " '₹0.00 ',\n",
       " '₹0.00',\n",
       " '₹0.00',\n",
       " '₹0.00 ']"
      ]
     },
     "execution_count": 9,
     "metadata": {},
     "output_type": "execute_result"
    }
   ],
   "source": [
    "Price"
   ]
  },
  {
   "cell_type": "code",
   "execution_count": 10,
   "metadata": {},
   "outputs": [],
   "source": [
    "Rating = plum.css(\".rating__stars::text\").getall()"
   ]
  },
  {
   "cell_type": "code",
   "execution_count": 11,
   "metadata": {},
   "outputs": [
    {
     "data": {
      "text/plain": [
       "['★ 4.5 ',\n",
       " '★ 4.2 ',\n",
       " '★ 4.4 ',\n",
       " '★ 4.2 ',\n",
       " '★ 4.3 ',\n",
       " '★ 4.2 ',\n",
       " '★ 3.0 ',\n",
       " '★ 4.6 ',\n",
       " '★ 4.4 ',\n",
       " '★ 3.8 ',\n",
       " '★ 4.3 ',\n",
       " '★ 4.1 ',\n",
       " '★ 4.7 ',\n",
       " '★ 4.1 ',\n",
       " '★ 3.9 ',\n",
       " '★ 4.2 ',\n",
       " '★ 4.7 ',\n",
       " '★ 4.6 ',\n",
       " '★ 4.4 ',\n",
       " '★ 4.6 ',\n",
       " '★ 4.1 ',\n",
       " '★ 4.0 ',\n",
       " '★ 4.4 ']"
      ]
     },
     "execution_count": 11,
     "metadata": {},
     "output_type": "execute_result"
    }
   ],
   "source": [
    "Rating"
   ]
  },
  {
   "cell_type": "code",
   "execution_count": 12,
   "metadata": {},
   "outputs": [],
   "source": [
    "Review = plum.css(\".rating__count.inline-block.align-middle.text-sm::text\").getall()"
   ]
  },
  {
   "cell_type": "code",
   "execution_count": 13,
   "metadata": {},
   "outputs": [
    {
     "data": {
      "text/plain": [
       "[' 2015 reviews',\n",
       " ' 1138 reviews',\n",
       " ' 1038 reviews',\n",
       " ' 225 reviews',\n",
       " ' 1215 reviews',\n",
       " ' 48 reviews',\n",
       " ' 8 reviews',\n",
       " ' 5381 reviews',\n",
       " ' 11 reviews',\n",
       " ' 8 reviews',\n",
       " ' 266 reviews',\n",
       " ' 50 reviews',\n",
       " ' 3240 reviews',\n",
       " ' 81 reviews',\n",
       " ' 81 reviews',\n",
       " ' 65 reviews',\n",
       " ' 302 reviews',\n",
       " ' 3516 reviews',\n",
       " ' 336 reviews',\n",
       " ' 1471 reviews',\n",
       " ' 314 reviews',\n",
       " ' 688 reviews',\n",
       " ' 732 reviews']"
      ]
     },
     "execution_count": 13,
     "metadata": {},
     "output_type": "execute_result"
    }
   ],
   "source": [
    "Review"
   ]
  },
  {
   "cell_type": "code",
   "execution_count": 14,
   "metadata": {},
   "outputs": [],
   "source": [
    "Links = plum.css(\".card__media.has-hover-image.relative a::attr(href)\").getall()"
   ]
  },
  {
   "cell_type": "code",
   "execution_count": 15,
   "metadata": {},
   "outputs": [
    {
     "data": {
      "text/plain": [
       "['/products/10-niacinamide-face-serum-with-rice-water-for-clear-blemish-free-bright-skin-suits-all-skin-types-fragrance-free',\n",
       " '/products/plum-2-niacinamide-rice-water-spf-50-pa-sunscreen-reduces-blemishes-brightens-skin-protects-from-uva-uvb-rays-fragrance-free-all-skin-types-100-vegan',\n",
       " '/products/thinkderma-2-niacinamide-rice-water-clear-moisture-gel-cream-all-day-non-greasy-moisturizer-fades-blemishes-brightens-skin-3-matmarine-for-oil-control-lightweight-non-sticky-100-vegan',\n",
       " '/products/niacinamide-clear-bright-skin-combo-with-niacinamide-rice-water-toner-serum-gel-moisturizer-spf-50-sunscreen-brightens-skin-fades-blemishes-for-all-skin-types-100-vegan',\n",
       " '/products/plum-niacinamide-toner-with-rice-water',\n",
       " '/products/cica-hya-betaine-vegan-mucin-face-essence-with-azuki-bean-extracts-atp',\n",
       " '/products/plum-oat-ceramide-complex-100-mineral-sunscreen',\n",
       " '/products/vitamin-c-face-serum',\n",
       " '/products/rice-water-3-niacinamide-sheer-tinted-sunscreen',\n",
       " '/products/bulgarian-rose-and-1-hyaluronic-acid-dew-it-light-gel-cream',\n",
       " '/products/plum-2-niacinamide-rice-water-face-wash',\n",
       " '/products/green-tea-zinc-super-matte-sunscreen-gel-spf-50-pa-spf-for-oily-skin-new',\n",
       " '/products/green-tea-pore-cleansing-face-wash',\n",
       " '/products/oat-1-ceramide-barrier-love-face-cream',\n",
       " '/products/2-niacinamide-rice-water-spf-50-pa-hybrid-sunscreen-pack-of-2-protects-from-uva-uvb-rays-fragrance-free-all-skin-types-100-vegan',\n",
       " '/products/bright-years-age-specialist-full-set-1',\n",
       " '/products/green-tea-renewed-clarity-night-gel',\n",
       " '/products/retinol-face-serum-with-bakuchiol',\n",
       " '/products/green-tea-oil-free-moisturizer',\n",
       " '/products/saffron-kumkumadi-oil-moisturizer',\n",
       " '/products/cica-hyaluronic-acid-spf-50-pa-sunscreen',\n",
       " '/products/niacinamide-face-serum-with-rice-water-amino-acid-vegan-30-ml']"
      ]
     },
     "execution_count": 15,
     "metadata": {},
     "output_type": "execute_result"
    }
   ],
   "source": [
    "Links"
   ]
  },
  {
   "cell_type": "code",
   "execution_count": 16,
   "metadata": {},
   "outputs": [],
   "source": [
    "Link = \"https://plumgoodness.com/\" + Links[0]"
   ]
  },
  {
   "cell_type": "code",
   "execution_count": 17,
   "metadata": {},
   "outputs": [
    {
     "data": {
      "text/plain": [
       "'https://plumgoodness.com//products/10-niacinamide-face-serum-with-rice-water-for-clear-blemish-free-bright-skin-suits-all-skin-types-fragrance-free'"
      ]
     },
     "execution_count": 17,
     "metadata": {},
     "output_type": "execute_result"
    }
   ],
   "source": [
    "Link"
   ]
  },
  {
   "cell_type": "code",
   "execution_count": 18,
   "metadata": {},
   "outputs": [],
   "source": [
    "Benefit = plum.css(\".text-sm.text-current.mb-1::text\").getall()"
   ]
  },
  {
   "cell_type": "code",
   "execution_count": 19,
   "metadata": {},
   "outputs": [
    {
     "data": {
      "text/plain": [
       "['\\n              Brightens from 1st use | 2x Instant Hydration | Fades Blemishes\\u200b\\n            ',\n",
       " '\\n              3x Tan Reduction | Brightens Skin | Non-Greasy | No White Cast\\u200b\\n            ',\n",
       " '\\n              Oil-free Hydration | Brightens & Fades Blemishes | Dermat-tested\\n            ',\n",
       " '\\n              Brightens Skin | Fades Blemishes | Smoothens Skin Texture | For All Skin Types\\n            ',\n",
       " '\\n              Alcohol-free Toner | Fades Blemishes, Brightens Skin | Smoothens Skin Texture | Non-comedogenic & Dermat-tested\\n            ',\n",
       " '\\n              72 hr, 5-layer deep hydration | Soothes & Cools | Lightweight, Quick-Absorbing & Non-Sticky\\u200b\\n            ',\n",
       " '\\n              SPF 50 PA+++ | No White Cast | For Sensitive Skin | Gynaecologist & Pediatrician Trusted | Strengthens Skin Barrier | Lightweight, Non-Oily | Men & Women | 50g\\n            ',\n",
       " '\\n              Boosts Glow | Fades Dark Spots | Fights Hyperpigmentation\\n            ',\n",
       " '\\n              SPF 50 PA++++ | Universal Tint - suitable for most Indian skin tones | Brightens & Evens Skin Tone | Sheer Coverage | Non-oily | All Skin Types | 100% vegan | 50gm\\n            ',\n",
       " '\\n              Clinically Proven 120 Hours Hydration | Reduces Water Loss in 30mins | Lightweight & Quick Absorbing | Women & Men | For All Skin Types | 100% Vegan | 50g\\n            ',\n",
       " '\\n              Brightens & Softens Skin | Gently Cleanses | Non-drying Formula\\n            ',\n",
       " '\\n              Protects & Controls Oil | Lightweight Gel Texture |  No White Cast  & Non-sticky | With Hybrid Filters \\n            ',\n",
       " '\\n              Fights Pimples | Controls Excess Oil | Unclogs Pores\\n            ',\n",
       " '\\n              Dermat Tested | Strengthens Skin Barrier | Provides Lasting Moisturization | Deeply Nourishes\\n            ',\n",
       " '\\n              Brightens Skin | Fades Blemishes | Smoothens Skin Texture | For All Skin Types\\n            ',\n",
       " '\\n              3x Tan Reduction | Brightens Skin | Non-Greasy | No White Cast\\n            ',\n",
       " '\\n              Fights Pimples | Controls Excess Oil | Hydrates Skin\\n            ',\n",
       " '\\n              Reduces Fine Lines & Wrinkles | Boosts Collagen | Hydrates\\n            ',\n",
       " '\\n              Fights Pimples | Controls Excess Oil | Hydrates Skin\\n            ',\n",
       " '\\n              Enhances Glow | Brightens Skin | SPF 35 Protection\\n            ',\n",
       " '\\n              Safe, New Gen UV Filters | Non-Sticky| Non-Oily \\u200b\\n            ',\n",
       " '\\n              brightens | improves skin texture | beginner  friendly\\n            ']"
      ]
     },
     "execution_count": 19,
     "metadata": {},
     "output_type": "execute_result"
    }
   ],
   "source": [
    "Benefit"
   ]
  },
  {
   "cell_type": "code",
   "execution_count": 20,
   "metadata": {},
   "outputs": [],
   "source": [
    "skintype = plum.css(\"div.card__info-container.flex.flex-col.flex-auto.relative > div.card__info.w-full > div > div.product-type > span::text\").getall()"
   ]
  },
  {
   "cell_type": "code",
   "execution_count": 21,
   "metadata": {},
   "outputs": [
    {
     "data": {
      "text/plain": [
       "['All Skin Types',\n",
       " 'all skin types',\n",
       " 'all skin types',\n",
       " 'all skin types',\n",
       " 'all skin types',\n",
       " 'all skin types',\n",
       " 'Oily',\n",
       " ' Acne-prone',\n",
       " ' Combination Skin',\n",
       " 'Normal',\n",
       " ' dry ',\n",
       " ' sensitive skin',\n",
       " 'All skin types',\n",
       " 'oily',\n",
       " ' acne-prone',\n",
       " ' combination skin',\n",
       " 'all skin types',\n",
       " 'Combination',\n",
       " ' Oily',\n",
       " ' Acne-Prone Skin',\n",
       " 'All Skin Types',\n",
       " 'all skin types',\n",
       " 'all skin types']"
      ]
     },
     "execution_count": 21,
     "metadata": {},
     "output_type": "execute_result"
    }
   ],
   "source": [
    "skintype"
   ]
  },
  {
   "cell_type": "code",
   "execution_count": 22,
   "metadata": {},
   "outputs": [],
   "source": [
    "position = plum.css(\"div.card__media.has-hover-image.relative > span::text\").getall()"
   ]
  },
  {
   "cell_type": "code",
   "execution_count": 23,
   "metadata": {},
   "outputs": [
    {
     "data": {
      "text/plain": [
       "['BESTSELLER',\n",
       " 'TRENDING 🔥',\n",
       " 'TRENDING 🔥',\n",
       " 'TRENDING 🔥',\n",
       " 'TRENDING 🔥',\n",
       " 'new launch!',\n",
       " 'new launch!',\n",
       " 'BESTSELLER',\n",
       " 'new launch!',\n",
       " 'new launch!',\n",
       " 'new launch!',\n",
       " 'new launch!',\n",
       " 'BESTSELLER',\n",
       " 'new launch!',\n",
       " 'TRENDING 🔥',\n",
       " 'TRENDING 🔥',\n",
       " 'TRENDING 🔥']"
      ]
     },
     "execution_count": 23,
     "metadata": {},
     "output_type": "execute_result"
    }
   ],
   "source": [
    "position"
   ]
  },
  {
   "cell_type": "code",
   "execution_count": 24,
   "metadata": {},
   "outputs": [],
   "source": [
    "offer_product = plum.css(\".more-info::text\").getall()"
   ]
  },
  {
   "cell_type": "code",
   "execution_count": 25,
   "metadata": {},
   "outputs": [
    {
     "data": {
      "text/plain": [
       "[' 13% off ',\n",
       " ' 13% off ',\n",
       " ' 13% off ',\n",
       " ' 13% off ',\n",
       " ' 13% off ',\n",
       " ' 13% off ',\n",
       " ' 7% off ',\n",
       " ' 13% off ',\n",
       " ' 13% off ',\n",
       " ' 13% off ',\n",
       " ' 13% off ',\n",
       " ' 13% off ',\n",
       " ' 13% off ',\n",
       " ' 13% off ',\n",
       " ' 13% off ',\n",
       " ' 15% off ',\n",
       " ' 13% off ',\n",
       " ' 13% off ',\n",
       " ' 13% off ',\n",
       " ' 15% off ',\n",
       " ' 13% off ',\n",
       " ' 13% off ',\n",
       " ' 13% off ',\n",
       " ' 13% off ',\n",
       " ' 13% off ',\n",
       " ' 13% off ']"
      ]
     },
     "execution_count": 25,
     "metadata": {},
     "output_type": "execute_result"
    }
   ],
   "source": [
    "offer_product"
   ]
  },
  {
   "cell_type": "code",
   "execution_count": 26,
   "metadata": {},
   "outputs": [],
   "source": [
    "size_of_product= plum.css(\".visually::text\").getall()"
   ]
  },
  {
   "cell_type": "code",
   "execution_count": 27,
   "metadata": {},
   "outputs": [
    {
     "data": {
      "text/plain": [
       "['50 ml',\n",
       " '30 ml',\n",
       " '15 ml',\n",
       " '50 g',\n",
       " '80 g',\n",
       " '50 g',\n",
       " '150ml',\n",
       " '100 ml',\n",
       " '50 g',\n",
       " '30 ml',\n",
       " '20 ml',\n",
       " '50 g',\n",
       " '50 g',\n",
       " '100 ml',\n",
       " 'SPF 50',\n",
       " 'SPF 35',\n",
       " '150ml',\n",
       " '100ml',\n",
       " '50 g',\n",
       " '50 ml',\n",
       " '30 ml',\n",
       " '20 ml',\n",
       " '50 ml',\n",
       " '50 g',\n",
       " '50 g',\n",
       " '30 ml']"
      ]
     },
     "execution_count": 27,
     "metadata": {},
     "output_type": "execute_result"
    }
   ],
   "source": [
    "size_of_product"
   ]
  },
  {
   "cell_type": "code",
   "execution_count": null,
   "metadata": {},
   "outputs": [],
   "source": [
    "min_length = min(len(Name), len(Amount), len(Price), len(Rating), len(Review), len(Benefit), len(skintype), len(position), len(offer_product),len(size_of_product))"
   ]
  },
  {
   "cell_type": "code",
   "execution_count": 29,
   "metadata": {},
   "outputs": [
    {
     "data": {
      "text/plain": [
       "17"
      ]
     },
     "execution_count": 29,
     "metadata": {},
     "output_type": "execute_result"
    }
   ],
   "source": [
    "min_length"
   ]
  },
  {
   "cell_type": "code",
   "execution_count": 30,
   "metadata": {},
   "outputs": [],
   "source": [
    "Name = Name[:min_length]\n",
    "Amounts = Amount[:min_length]\n",
    "Price = Price[:min_length]\n",
    "Rating = Rating[:min_length]\n",
    "Review = Review[:min_length]\n",
    "Benefit = Benefit[:min_length]\n",
    "skintypes = skintype[:min_length]\n",
    "positions = position[:min_length]\n",
    "offer_product = offer_product[:min_length]\n",
    "size_of_product = size_of_product[:min_length]"
   ]
  },
  {
   "cell_type": "code",
   "execution_count": 31,
   "metadata": {},
   "outputs": [],
   "source": [
    "Plum_Project = pd.DataFrame({\n",
    "    \"Name_of_Products\": Name,\n",
    "    \"Prices\": Amounts,\n",
    "    \"Offer_Prices\" : Price,\n",
    "    \"Ratings\": Rating,\n",
    "    \"Reviews\": Review,\n",
    "    \"Benefits\": Benefit,\n",
    "    \"Skintypes\": skintypes,\n",
    "    \"Positions\": positions,\n",
    "    \"Offer_Products\": offer_product,\n",
    "    \"Size_of_Products\": size_of_product})"
   ]
  },
  {
   "cell_type": "code",
   "execution_count": 32,
   "metadata": {},
   "outputs": [
    {
     "data": {
      "text/html": [
       "<div>\n",
       "<style scoped>\n",
       "    .dataframe tbody tr th:only-of-type {\n",
       "        vertical-align: middle;\n",
       "    }\n",
       "\n",
       "    .dataframe tbody tr th {\n",
       "        vertical-align: top;\n",
       "    }\n",
       "\n",
       "    .dataframe thead th {\n",
       "        text-align: right;\n",
       "    }\n",
       "</style>\n",
       "<table border=\"1\" class=\"dataframe\">\n",
       "  <thead>\n",
       "    <tr style=\"text-align: right;\">\n",
       "      <th></th>\n",
       "      <th>Name_of_Products</th>\n",
       "      <th>Prices</th>\n",
       "      <th>Offer_Prices</th>\n",
       "      <th>Ratings</th>\n",
       "      <th>Reviews</th>\n",
       "      <th>Benefits</th>\n",
       "      <th>Skintypes</th>\n",
       "      <th>Positions</th>\n",
       "      <th>Offer_Products</th>\n",
       "      <th>Size_of_Products</th>\n",
       "    </tr>\n",
       "  </thead>\n",
       "  <tbody>\n",
       "    <tr>\n",
       "      <th>0</th>\n",
       "      <td>10% Niacinamide Serum for Face with Rice Water</td>\n",
       "      <td>₹849.00</td>\n",
       "      <td>₹738.00</td>\n",
       "      <td>★ 4.5</td>\n",
       "      <td>2015 reviews</td>\n",
       "      <td>\\n              Brightens from 1st use | 2x In...</td>\n",
       "      <td>All Skin Types</td>\n",
       "      <td>BESTSELLER</td>\n",
       "      <td>13% off</td>\n",
       "      <td>50 ml</td>\n",
       "    </tr>\n",
       "    <tr>\n",
       "      <th>1</th>\n",
       "      <td>2% Niacinamide &amp; Rice Water SPF 50 PA+++ Hybri...</td>\n",
       "      <td>₹399.00</td>\n",
       "      <td>₹849.00</td>\n",
       "      <td>★ 4.2</td>\n",
       "      <td>1138 reviews</td>\n",
       "      <td>\\n              3x Tan Reduction | Brightens S...</td>\n",
       "      <td>all skin types</td>\n",
       "      <td>TRENDING 🔥</td>\n",
       "      <td>13% off</td>\n",
       "      <td>30 ml</td>\n",
       "    </tr>\n",
       "    <tr>\n",
       "      <th>2</th>\n",
       "      <td>2% Niacinamide &amp; Rice Water Gel Cream</td>\n",
       "      <td>₹525.00</td>\n",
       "      <td>₹347.00</td>\n",
       "      <td>★ 4.4</td>\n",
       "      <td>1038 reviews</td>\n",
       "      <td>\\n              Oil-free Hydration | Brightens...</td>\n",
       "      <td>all skin types</td>\n",
       "      <td>TRENDING 🔥</td>\n",
       "      <td>13% off</td>\n",
       "      <td>15 ml</td>\n",
       "    </tr>\n",
       "    <tr>\n",
       "      <th>3</th>\n",
       "      <td>Niacinamide Clear &amp; Bright Skin Combo | With N...</td>\n",
       "      <td>₹1,993.00</td>\n",
       "      <td>₹399.00</td>\n",
       "      <td>★ 4.2</td>\n",
       "      <td>225 reviews</td>\n",
       "      <td>\\n              Brightens Skin | Fades Blemish...</td>\n",
       "      <td>all skin types</td>\n",
       "      <td>TRENDING 🔥</td>\n",
       "      <td>13% off</td>\n",
       "      <td>50 g</td>\n",
       "    </tr>\n",
       "    <tr>\n",
       "      <th>4</th>\n",
       "      <td>3% Niacinamide Face Toner with Rice Water</td>\n",
       "      <td>₹420.00</td>\n",
       "      <td>₹456.00</td>\n",
       "      <td>★ 4.3</td>\n",
       "      <td>1215 reviews</td>\n",
       "      <td>\\n              Alcohol-free Toner | Fades Ble...</td>\n",
       "      <td>all skin types</td>\n",
       "      <td>TRENDING 🔥</td>\n",
       "      <td>13% off</td>\n",
       "      <td>80 g</td>\n",
       "    </tr>\n",
       "    <tr>\n",
       "      <th>5</th>\n",
       "      <td>Cica &amp; Hya-Betaine Vegan Mucin Face Essence Wi...</td>\n",
       "      <td>₹799.00</td>\n",
       "      <td>₹525.00</td>\n",
       "      <td>★ 4.2</td>\n",
       "      <td>48 reviews</td>\n",
       "      <td>\\n              72 hr, 5-layer deep hydration ...</td>\n",
       "      <td>all skin types</td>\n",
       "      <td>new launch!</td>\n",
       "      <td>13% off</td>\n",
       "      <td>50 g</td>\n",
       "    </tr>\n",
       "    <tr>\n",
       "      <th>6</th>\n",
       "      <td>Plum Oat &amp; Ceramide Complex 100% Mineral Sunsc...</td>\n",
       "      <td>₹699.00</td>\n",
       "      <td>₹1,494.00</td>\n",
       "      <td>★ 3.0</td>\n",
       "      <td>8 reviews</td>\n",
       "      <td>\\n              SPF 50 PA+++ | No White Cast |...</td>\n",
       "      <td>Oily</td>\n",
       "      <td>new launch!</td>\n",
       "      <td>7% off</td>\n",
       "      <td>150ml</td>\n",
       "    </tr>\n",
       "    <tr>\n",
       "      <th>7</th>\n",
       "      <td>15% Vitamin C Serum for Face with Mandarin</td>\n",
       "      <td>₹790.00</td>\n",
       "      <td>₹1,993.00</td>\n",
       "      <td>★ 4.6</td>\n",
       "      <td>5381 reviews</td>\n",
       "      <td>\\n              Boosts Glow | Fades Dark Spots...</td>\n",
       "      <td>Acne-prone</td>\n",
       "      <td>BESTSELLER</td>\n",
       "      <td>13% off</td>\n",
       "      <td>100 ml</td>\n",
       "    </tr>\n",
       "    <tr>\n",
       "      <th>8</th>\n",
       "      <td>Rice water &amp; 3% Niacinamide sheer-tinted sunsc...</td>\n",
       "      <td>₹499.00</td>\n",
       "      <td>₹390.00</td>\n",
       "      <td>★ 4.4</td>\n",
       "      <td>11 reviews</td>\n",
       "      <td>\\n              SPF 50 PA++++ | Universal Tint...</td>\n",
       "      <td>Combination Skin</td>\n",
       "      <td>new launch!</td>\n",
       "      <td>13% off</td>\n",
       "      <td>50 g</td>\n",
       "    </tr>\n",
       "    <tr>\n",
       "      <th>9</th>\n",
       "      <td>Bulgarian Rose and 1% Hyaluronic Acid Dew-it-l...</td>\n",
       "      <td>₹499.00</td>\n",
       "      <td>₹420.00</td>\n",
       "      <td>★ 3.8</td>\n",
       "      <td>8 reviews</td>\n",
       "      <td>\\n              Clinically Proven 120 Hours Hy...</td>\n",
       "      <td>Normal</td>\n",
       "      <td>new launch!</td>\n",
       "      <td>13% off</td>\n",
       "      <td>30 ml</td>\n",
       "    </tr>\n",
       "    <tr>\n",
       "      <th>10</th>\n",
       "      <td>2% Niacinamide &amp; Rice Water Simply Bright Face...</td>\n",
       "      <td>₹299.00</td>\n",
       "      <td>₹695.00</td>\n",
       "      <td>★ 4.3</td>\n",
       "      <td>266 reviews</td>\n",
       "      <td>\\n              Brightens &amp; Softens Skin | Gen...</td>\n",
       "      <td>dry</td>\n",
       "      <td>new launch!</td>\n",
       "      <td>13% off</td>\n",
       "      <td>20 ml</td>\n",
       "    </tr>\n",
       "    <tr>\n",
       "      <th>11</th>\n",
       "      <td>Green Tea &amp; Zinc Super-Matte Sunscreen Gel | S...</td>\n",
       "      <td>₹425.00</td>\n",
       "      <td>₹799.00</td>\n",
       "      <td>★ 4.1</td>\n",
       "      <td>50 reviews</td>\n",
       "      <td>\\n              Protects &amp; Controls Oil | Ligh...</td>\n",
       "      <td>sensitive skin</td>\n",
       "      <td>new launch!</td>\n",
       "      <td>13% off</td>\n",
       "      <td>50 g</td>\n",
       "    </tr>\n",
       "    <tr>\n",
       "      <th>12</th>\n",
       "      <td>Green Tea Pore Cleansing Face Wash</td>\n",
       "      <td>₹350.00</td>\n",
       "      <td>₹608.00</td>\n",
       "      <td>★ 4.7</td>\n",
       "      <td>3240 reviews</td>\n",
       "      <td>\\n              Fights Pimples | Controls Exce...</td>\n",
       "      <td>All skin types</td>\n",
       "      <td>BESTSELLER</td>\n",
       "      <td>13% off</td>\n",
       "      <td>50 g</td>\n",
       "    </tr>\n",
       "    <tr>\n",
       "      <th>13</th>\n",
       "      <td>Oat &amp; 1% Ceramide Barrier Love Face Cream</td>\n",
       "      <td>₹399.00</td>\n",
       "      <td>₹699.00</td>\n",
       "      <td>★ 4.1</td>\n",
       "      <td>81 reviews</td>\n",
       "      <td>\\n              Dermat Tested | Strengthens Sk...</td>\n",
       "      <td>oily</td>\n",
       "      <td>new launch!</td>\n",
       "      <td>13% off</td>\n",
       "      <td>100 ml</td>\n",
       "    </tr>\n",
       "    <tr>\n",
       "      <th>14</th>\n",
       "      <td>Niacinamide Bright &amp; Clear Skin Combo</td>\n",
       "      <td>₹2,492.00</td>\n",
       "      <td>₹687.00</td>\n",
       "      <td>★ 3.9</td>\n",
       "      <td>81 reviews</td>\n",
       "      <td>\\n              Brightens Skin | Fades Blemish...</td>\n",
       "      <td>acne-prone</td>\n",
       "      <td>TRENDING 🔥</td>\n",
       "      <td>13% off</td>\n",
       "      <td>SPF 50</td>\n",
       "    </tr>\n",
       "    <tr>\n",
       "      <th>15</th>\n",
       "      <td>2% Niacinamide &amp; Rice Water SPF 50 PA+++ Hybri...</td>\n",
       "      <td>₹798.00</td>\n",
       "      <td>₹790.00</td>\n",
       "      <td>★ 4.2</td>\n",
       "      <td>65 reviews</td>\n",
       "      <td>\\n              3x Tan Reduction | Brightens S...</td>\n",
       "      <td>combination skin</td>\n",
       "      <td>TRENDING 🔥</td>\n",
       "      <td>15% off</td>\n",
       "      <td>SPF 35</td>\n",
       "    </tr>\n",
       "    <tr>\n",
       "      <th>16</th>\n",
       "      <td>Bright Years Age Specialist Full Set</td>\n",
       "      <td>₹4,500.00</td>\n",
       "      <td>₹434.00</td>\n",
       "      <td>★ 4.7</td>\n",
       "      <td>302 reviews</td>\n",
       "      <td>\\n              Fights Pimples | Controls Exce...</td>\n",
       "      <td>all skin types</td>\n",
       "      <td>TRENDING 🔥</td>\n",
       "      <td>13% off</td>\n",
       "      <td>150ml</td>\n",
       "    </tr>\n",
       "  </tbody>\n",
       "</table>\n",
       "</div>"
      ],
      "text/plain": [
       "                                     Name_of_Products     Prices Offer_Prices  \\\n",
       "0      10% Niacinamide Serum for Face with Rice Water    ₹849.00      ₹738.00   \n",
       "1   2% Niacinamide & Rice Water SPF 50 PA+++ Hybri...    ₹399.00      ₹849.00   \n",
       "2               2% Niacinamide & Rice Water Gel Cream    ₹525.00      ₹347.00   \n",
       "3   Niacinamide Clear & Bright Skin Combo | With N...  ₹1,993.00      ₹399.00   \n",
       "4           3% Niacinamide Face Toner with Rice Water    ₹420.00      ₹456.00   \n",
       "5   Cica & Hya-Betaine Vegan Mucin Face Essence Wi...    ₹799.00      ₹525.00   \n",
       "6   Plum Oat & Ceramide Complex 100% Mineral Sunsc...    ₹699.00    ₹1,494.00   \n",
       "7          15% Vitamin C Serum for Face with Mandarin    ₹790.00    ₹1,993.00   \n",
       "8   Rice water & 3% Niacinamide sheer-tinted sunsc...    ₹499.00      ₹390.00   \n",
       "9   Bulgarian Rose and 1% Hyaluronic Acid Dew-it-l...    ₹499.00      ₹420.00   \n",
       "10  2% Niacinamide & Rice Water Simply Bright Face...    ₹299.00      ₹695.00   \n",
       "11  Green Tea & Zinc Super-Matte Sunscreen Gel | S...    ₹425.00      ₹799.00   \n",
       "12                 Green Tea Pore Cleansing Face Wash    ₹350.00      ₹608.00   \n",
       "13          Oat & 1% Ceramide Barrier Love Face Cream    ₹399.00      ₹699.00   \n",
       "14              Niacinamide Bright & Clear Skin Combo  ₹2,492.00      ₹687.00   \n",
       "15  2% Niacinamide & Rice Water SPF 50 PA+++ Hybri...    ₹798.00      ₹790.00   \n",
       "16               Bright Years Age Specialist Full Set  ₹4,500.00      ₹434.00   \n",
       "\n",
       "   Ratings        Reviews                                           Benefits  \\\n",
       "0   ★ 4.5    2015 reviews  \\n              Brightens from 1st use | 2x In...   \n",
       "1   ★ 4.2    1138 reviews  \\n              3x Tan Reduction | Brightens S...   \n",
       "2   ★ 4.4    1038 reviews  \\n              Oil-free Hydration | Brightens...   \n",
       "3   ★ 4.2     225 reviews  \\n              Brightens Skin | Fades Blemish...   \n",
       "4   ★ 4.3    1215 reviews  \\n              Alcohol-free Toner | Fades Ble...   \n",
       "5   ★ 4.2      48 reviews  \\n              72 hr, 5-layer deep hydration ...   \n",
       "6   ★ 3.0       8 reviews  \\n              SPF 50 PA+++ | No White Cast |...   \n",
       "7   ★ 4.6    5381 reviews  \\n              Boosts Glow | Fades Dark Spots...   \n",
       "8   ★ 4.4      11 reviews  \\n              SPF 50 PA++++ | Universal Tint...   \n",
       "9   ★ 3.8       8 reviews  \\n              Clinically Proven 120 Hours Hy...   \n",
       "10  ★ 4.3     266 reviews  \\n              Brightens & Softens Skin | Gen...   \n",
       "11  ★ 4.1      50 reviews  \\n              Protects & Controls Oil | Ligh...   \n",
       "12  ★ 4.7    3240 reviews  \\n              Fights Pimples | Controls Exce...   \n",
       "13  ★ 4.1      81 reviews  \\n              Dermat Tested | Strengthens Sk...   \n",
       "14  ★ 3.9      81 reviews  \\n              Brightens Skin | Fades Blemish...   \n",
       "15  ★ 4.2      65 reviews  \\n              3x Tan Reduction | Brightens S...   \n",
       "16  ★ 4.7     302 reviews  \\n              Fights Pimples | Controls Exce...   \n",
       "\n",
       "            Skintypes    Positions Offer_Products Size_of_Products  \n",
       "0      All Skin Types   BESTSELLER       13% off             50 ml  \n",
       "1      all skin types   TRENDING 🔥       13% off             30 ml  \n",
       "2      all skin types   TRENDING 🔥       13% off             15 ml  \n",
       "3      all skin types   TRENDING 🔥       13% off              50 g  \n",
       "4      all skin types   TRENDING 🔥       13% off              80 g  \n",
       "5      all skin types  new launch!       13% off              50 g  \n",
       "6                Oily  new launch!        7% off             150ml  \n",
       "7          Acne-prone   BESTSELLER       13% off            100 ml  \n",
       "8    Combination Skin  new launch!       13% off              50 g  \n",
       "9              Normal  new launch!       13% off             30 ml  \n",
       "10               dry   new launch!       13% off             20 ml  \n",
       "11     sensitive skin  new launch!       13% off              50 g  \n",
       "12     All skin types   BESTSELLER       13% off              50 g  \n",
       "13               oily  new launch!       13% off            100 ml  \n",
       "14         acne-prone   TRENDING 🔥       13% off            SPF 50  \n",
       "15   combination skin   TRENDING 🔥       15% off            SPF 35  \n",
       "16     all skin types   TRENDING 🔥       13% off             150ml  "
      ]
     },
     "execution_count": 32,
     "metadata": {},
     "output_type": "execute_result"
    }
   ],
   "source": [
    "Plum_Project"
   ]
  },
  {
   "cell_type": "code",
   "execution_count": 33,
   "metadata": {},
   "outputs": [],
   "source": [
    "Plum_Project.to_csv(\"D:/ME204/Plum Project/Data/Raw/Plum_Project_Uncleaning.csv\", index = False)"
   ]
  }
 ],
 "metadata": {
  "kernelspec": {
   "display_name": "Python 3",
   "language": "python",
   "name": "python3"
  },
  "language_info": {
   "codemirror_mode": {
    "name": "ipython",
    "version": 3
   },
   "file_extension": ".py",
   "mimetype": "text/x-python",
   "name": "python",
   "nbconvert_exporter": "python",
   "pygments_lexer": "ipython3",
   "version": "3.12.6"
  }
 },
 "nbformat": 4,
 "nbformat_minor": 2
}
